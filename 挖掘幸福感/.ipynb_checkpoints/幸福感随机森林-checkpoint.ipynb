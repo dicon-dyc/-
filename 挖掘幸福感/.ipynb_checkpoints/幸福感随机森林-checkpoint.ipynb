{
 "cells": [
  {
   "cell_type": "code",
   "execution_count": 22,
   "metadata": {},
   "outputs": [],
   "source": [
    "import numpy as np\n",
    "import pandas as pd\n",
    "import matplotlib.pyplot as plt\n",
    "import seaborn as sns\n",
    "from sklearn.ensemble import RandomForestClassifier"
   ]
  },
  {
   "cell_type": "code",
   "execution_count": 23,
   "metadata": {},
   "outputs": [],
   "source": [
    "train_data = pd.read_csv('./happiness_train_complete.csv',encoding='latin-1')\n",
    "test_data = pd.read_csv('./happiness_test_complete.csv',encoding='latin-1')"
   ]
  },
  {
   "cell_type": "code",
   "execution_count": 24,
   "metadata": {},
   "outputs": [
    {
     "data": {
      "text/plain": [
       "<bound method NDFrame.head of         id  happiness  survey_type  province  city  county      survey_time  \\\n",
       "0        1          4            1        12    32      59   2015/8/4 14:18   \n",
       "1        2          4            2        18    52      85  2015/7/21 15:04   \n",
       "2        3          4            2        29    83     126  2015/7/21 13:24   \n",
       "3        4          5            2        10    28      51  2015/7/25 17:33   \n",
       "4        5          4            1         7    18      36   2015/8/10 9:50   \n",
       "...    ...        ...          ...       ...   ...     ...              ...   \n",
       "7995  7996          2            2        29    82     124  2015/7/21 19:36   \n",
       "7996  7997          3            1        12    32      61  2015/7/31 16:00   \n",
       "7997  7998          4            1        16    46      78   2015/8/1 17:48   \n",
       "7998  7999          3            1         1     1       8  2015/9/22 18:52   \n",
       "7999  8000          4            1         1     1       3  2015/9/28 20:22   \n",
       "\n",
       "      gender  birth  nationality  ...  neighbor_familiarity  public_service_1  \\\n",
       "0          1   1959            1  ...                     4                50   \n",
       "1          1   1992            1  ...                     3                90   \n",
       "2          2   1967            1  ...                     4                90   \n",
       "3          2   1943            1  ...                     3               100   \n",
       "4          2   1994            1  ...                     2                50   \n",
       "...      ...    ...          ...  ...                   ...               ...   \n",
       "7995       1   1981            1  ...                     3                40   \n",
       "7996       2   1945            1  ...                     4                80   \n",
       "7997       2   1967            1  ...                     4                75   \n",
       "7998       2   1978            1  ...                     2                56   \n",
       "7999       2   1991            1  ...                     3                80   \n",
       "\n",
       "      public_service_2 public_service_3  public_service_4  public_service_5  \\\n",
       "0                   60               50                50              30.0   \n",
       "1                   70               70                80              85.0   \n",
       "2                   80               75                79              80.0   \n",
       "3                   90               70                80              80.0   \n",
       "4                   50               50                50              50.0   \n",
       "...                ...              ...               ...               ...   \n",
       "7995                50               50                50              40.0   \n",
       "7996                80               80                80              80.0   \n",
       "7997                70               70                80              80.0   \n",
       "7998                67               70                69              78.0   \n",
       "7999                80               80                80              80.0   \n",
       "\n",
       "      public_service_6  public_service_7  public_service_8  public_service_9  \n",
       "0                   30                50                50                50  \n",
       "1                   70                90                60                60  \n",
       "2                   90                90                90                75  \n",
       "3                   90                90                80                80  \n",
       "4                   50                50                50                50  \n",
       "...                ...               ...               ...               ...  \n",
       "7995                50                50                60                50  \n",
       "7996                60                60                80                80  \n",
       "7997                70                75                70                75  \n",
       "7998                60                70                80                70  \n",
       "7999                80                80                80                80  \n",
       "\n",
       "[8000 rows x 140 columns]>"
      ]
     },
     "execution_count": 24,
     "metadata": {},
     "output_type": "execute_result"
    }
   ],
   "source": [
    "train_data.head"
   ]
  },
  {
   "cell_type": "code",
   "execution_count": 25,
   "metadata": {},
   "outputs": [
    {
     "data": {
      "text/plain": [
       "Index(['id', 'happiness', 'survey_type', 'province', 'city', 'county',\n",
       "       'survey_time', 'gender', 'birth', 'nationality',\n",
       "       ...\n",
       "       'neighbor_familiarity', 'public_service_1', 'public_service_2',\n",
       "       'public_service_3', 'public_service_4', 'public_service_5',\n",
       "       'public_service_6', 'public_service_7', 'public_service_8',\n",
       "       'public_service_9'],\n",
       "      dtype='object', length=140)"
      ]
     },
     "execution_count": 25,
     "metadata": {},
     "output_type": "execute_result"
    }
   ],
   "source": [
    "train_data.columns"
   ]
  },
  {
   "cell_type": "code",
   "execution_count": 26,
   "metadata": {},
   "outputs": [
    {
     "data": {
      "text/plain": [
       "id                  0\n",
       "happiness           0\n",
       "survey_type         0\n",
       "province            0\n",
       "city                0\n",
       "                   ..\n",
       "public_service_5    0\n",
       "public_service_6    0\n",
       "public_service_7    0\n",
       "public_service_8    0\n",
       "public_service_9    0\n",
       "Length: 140, dtype: int64"
      ]
     },
     "execution_count": 26,
     "metadata": {},
     "output_type": "execute_result"
    }
   ],
   "source": [
    "train_data.isnull().sum()"
   ]
  },
  {
   "cell_type": "code",
   "execution_count": 27,
   "metadata": {},
   "outputs": [
    {
     "data": {
      "text/plain": [
       "id                  0\n",
       "happiness           0\n",
       "survey_type         0\n",
       "province            0\n",
       "city                0\n",
       "                   ..\n",
       "public_service_5    0\n",
       "public_service_6    0\n",
       "public_service_7    0\n",
       "public_service_8    0\n",
       "public_service_9    0\n",
       "Length: 140, dtype: int64"
      ]
     },
     "execution_count": 27,
     "metadata": {},
     "output_type": "execute_result"
    }
   ],
   "source": [
    "percent_missing_sum = train_data.isnull().sum()\n",
    "percent_missing_sum"
   ]
  },
  {
   "cell_type": "code",
   "execution_count": 28,
   "metadata": {},
   "outputs": [],
   "source": [
    "name_temp = ['happiness','id','survey_time']"
   ]
  },
  {
   "cell_type": "code",
   "execution_count": 29,
   "metadata": {},
   "outputs": [
    {
     "name": "stdout",
     "output_type": "stream",
     "text": [
      "['happiness', 'id', 'survey_time', 'edu_other', 'edu_status', 'edu_yr', 'join_party', 'property_other', 'work_status', 'work_yr', 'work_type', 'work_manage', 'invest_other', 'minor_child', 's_birth', 'marital_now', 's_edu', 's_political', 's_hukou', 's_income', 's_work_exper', 's_work_status', 's_work_type']\n"
     ]
    }
   ],
   "source": [
    "for name in percent_missing_sum.index:\n",
    "    if percent_missing_sum[name] > 1000:\n",
    "        name_temp.append(name)\n",
    "print(name_temp)"
   ]
  },
  {
   "cell_type": "code",
   "execution_count": 30,
   "metadata": {},
   "outputs": [
    {
     "data": {
      "text/plain": [
       "['survey_type',\n",
       " 'province',\n",
       " 'city',\n",
       " 'county',\n",
       " 'gender',\n",
       " 'birth',\n",
       " 'nationality',\n",
       " 'religion',\n",
       " 'religion_freq',\n",
       " 'edu',\n",
       " 'income',\n",
       " 'political',\n",
       " 'floor_area',\n",
       " 'property_0',\n",
       " 'property_1',\n",
       " 'property_2',\n",
       " 'property_3',\n",
       " 'property_4',\n",
       " 'property_5',\n",
       " 'property_6',\n",
       " 'property_7',\n",
       " 'property_8',\n",
       " 'height_cm',\n",
       " 'weight_jin',\n",
       " 'health',\n",
       " 'health_problem',\n",
       " 'depression',\n",
       " 'hukou',\n",
       " 'hukou_loc',\n",
       " 'media_1',\n",
       " 'media_2',\n",
       " 'media_3',\n",
       " 'media_4',\n",
       " 'media_5',\n",
       " 'media_6',\n",
       " 'leisure_1',\n",
       " 'leisure_2',\n",
       " 'leisure_3',\n",
       " 'leisure_4',\n",
       " 'leisure_5',\n",
       " 'leisure_6',\n",
       " 'leisure_7',\n",
       " 'leisure_8',\n",
       " 'leisure_9',\n",
       " 'leisure_10',\n",
       " 'leisure_11',\n",
       " 'leisure_12',\n",
       " 'socialize',\n",
       " 'relax',\n",
       " 'learn',\n",
       " 'social_neighbor',\n",
       " 'social_friend',\n",
       " 'socia_outing',\n",
       " 'equity',\n",
       " 'class',\n",
       " 'class_10_before',\n",
       " 'class_10_after',\n",
       " 'class_14',\n",
       " 'work_exper',\n",
       " 'insur_1',\n",
       " 'insur_2',\n",
       " 'insur_3',\n",
       " 'insur_4',\n",
       " 'family_income',\n",
       " 'family_m',\n",
       " 'family_status',\n",
       " 'house',\n",
       " 'car',\n",
       " 'invest_0',\n",
       " 'invest_1',\n",
       " 'invest_2',\n",
       " 'invest_3',\n",
       " 'invest_4',\n",
       " 'invest_5',\n",
       " 'invest_6',\n",
       " 'invest_7',\n",
       " 'invest_8',\n",
       " 'son',\n",
       " 'daughter',\n",
       " 'marital',\n",
       " 'marital_1st',\n",
       " 'f_birth',\n",
       " 'f_edu',\n",
       " 'f_political',\n",
       " 'f_work_14',\n",
       " 'm_birth',\n",
       " 'm_edu',\n",
       " 'm_political',\n",
       " 'm_work_14',\n",
       " 'status_peer',\n",
       " 'status_3_before',\n",
       " 'view',\n",
       " 'inc_ability',\n",
       " 'inc_exp',\n",
       " 'trust_1',\n",
       " 'trust_2',\n",
       " 'trust_3',\n",
       " 'trust_4',\n",
       " 'trust_5',\n",
       " 'trust_6',\n",
       " 'trust_7',\n",
       " 'trust_8',\n",
       " 'trust_9',\n",
       " 'trust_10',\n",
       " 'trust_11',\n",
       " 'trust_12',\n",
       " 'trust_13',\n",
       " 'neighbor_familiarity',\n",
       " 'public_service_1',\n",
       " 'public_service_2',\n",
       " 'public_service_3',\n",
       " 'public_service_4',\n",
       " 'public_service_5',\n",
       " 'public_service_6',\n",
       " 'public_service_7',\n",
       " 'public_service_8',\n",
       " 'public_service_9']"
      ]
     },
     "execution_count": 30,
     "metadata": {},
     "output_type": "execute_result"
    }
   ],
   "source": [
    "name_extract = [col for col in train_data.columns if col not in name_temp]\n",
    "name_extract"
   ]
  },
  {
   "cell_type": "code",
   "execution_count": 31,
   "metadata": {},
   "outputs": [],
   "source": [
    "X_data = train_data[name_extract]\n",
    "Y_data = train_data['happiness']\n",
    "X_test = test_data[name_extract]"
   ]
  },
  {
   "cell_type": "code",
   "execution_count": 32,
   "metadata": {},
   "outputs": [
    {
     "data": {
      "text/plain": [
       "<bound method NDFrame.head of       survey_type  province  city  county  gender  birth  nationality  \\\n",
       "0               1        12    32      59       1   1959            1   \n",
       "1               2        18    52      85       1   1992            1   \n",
       "2               2        29    83     126       2   1967            1   \n",
       "3               2        10    28      51       2   1943            1   \n",
       "4               1         7    18      36       2   1994            1   \n",
       "...           ...       ...   ...     ...     ...    ...          ...   \n",
       "7995            2        29    82     124       1   1981            1   \n",
       "7996            1        12    32      61       2   1945            1   \n",
       "7997            1        16    46      78       2   1967            1   \n",
       "7998            1         1     1       8       2   1978            1   \n",
       "7999            1         1     1       3       2   1991            1   \n",
       "\n",
       "      religion  religion_freq  edu  ...  neighbor_familiarity  \\\n",
       "0            1              1   11  ...                     4   \n",
       "1            1              1   12  ...                     3   \n",
       "2            0              3    4  ...                     4   \n",
       "3            1              1    3  ...                     3   \n",
       "4            1              1   12  ...                     2   \n",
       "...        ...            ...  ...  ...                   ...   \n",
       "7995         1              1    4  ...                     3   \n",
       "7996         1              1    1  ...                     4   \n",
       "7997         1              1    3  ...                     4   \n",
       "7998         1              1   12  ...                     2   \n",
       "7999         1              1   10  ...                     3   \n",
       "\n",
       "      public_service_1  public_service_2  public_service_3  public_service_4  \\\n",
       "0                   50                60                50                50   \n",
       "1                   90                70                70                80   \n",
       "2                   90                80                75                79   \n",
       "3                  100                90                70                80   \n",
       "4                   50                50                50                50   \n",
       "...                ...               ...               ...               ...   \n",
       "7995                40                50                50                50   \n",
       "7996                80                80                80                80   \n",
       "7997                75                70                70                80   \n",
       "7998                56                67                70                69   \n",
       "7999                80                80                80                80   \n",
       "\n",
       "      public_service_5  public_service_6  public_service_7  public_service_8  \\\n",
       "0                 30.0                30                50                50   \n",
       "1                 85.0                70                90                60   \n",
       "2                 80.0                90                90                90   \n",
       "3                 80.0                90                90                80   \n",
       "4                 50.0                50                50                50   \n",
       "...                ...               ...               ...               ...   \n",
       "7995              40.0                50                50                60   \n",
       "7996              80.0                60                60                80   \n",
       "7997              80.0                70                75                70   \n",
       "7998              78.0                60                70                80   \n",
       "7999              80.0                80                80                80   \n",
       "\n",
       "      public_service_9  \n",
       "0                   50  \n",
       "1                   60  \n",
       "2                   75  \n",
       "3                   80  \n",
       "4                   50  \n",
       "...                ...  \n",
       "7995                50  \n",
       "7996                80  \n",
       "7997                75  \n",
       "7998                70  \n",
       "7999                80  \n",
       "\n",
       "[8000 rows x 117 columns]>"
      ]
     },
     "execution_count": 32,
     "metadata": {},
     "output_type": "execute_result"
    }
   ],
   "source": [
    "X_data.head"
   ]
  },
  {
   "cell_type": "code",
   "execution_count": 33,
   "metadata": {},
   "outputs": [
    {
     "name": "stdout",
     "output_type": "stream",
     "text": [
      "<class 'pandas.core.frame.DataFrame'>\n",
      "RangeIndex: 8000 entries, 0 to 7999\n",
      "Columns: 117 entries, survey_type to public_service_9\n",
      "dtypes: float64(8), int64(109)\n",
      "memory usage: 7.1 MB\n"
     ]
    }
   ],
   "source": [
    "X_data.info()"
   ]
  },
  {
   "cell_type": "code",
   "execution_count": 34,
   "metadata": {},
   "outputs": [],
   "source": [
    "X_data = X_data.fillna(0)\n",
    "X_test = X_test.fillna(0)"
   ]
  },
  {
   "cell_type": "code",
   "execution_count": 35,
   "metadata": {},
   "outputs": [
    {
     "name": "stdout",
     "output_type": "stream",
     "text": [
      "0.61125\n"
     ]
    }
   ],
   "source": [
    "rf0 = RandomForestClassifier(oob_score=True,random_state=10)\n",
    "rf0.fit(X_data,Y_data)\n",
    "print(rf0.oob_score_)"
   ]
  },
  {
   "cell_type": "code",
   "execution_count": 36,
   "metadata": {},
   "outputs": [],
   "source": [
    "realy = rf0.predict(X_test)"
   ]
  },
  {
   "cell_type": "code",
   "execution_count": 37,
   "metadata": {},
   "outputs": [
    {
     "data": {
      "text/plain": [
       "array([4, 4, 4, ..., 4, 4, 5], dtype=int64)"
      ]
     },
     "execution_count": 37,
     "metadata": {},
     "output_type": "execute_result"
    }
   ],
   "source": [
    "realy"
   ]
  },
  {
   "cell_type": "code",
   "execution_count": 38,
   "metadata": {},
   "outputs": [],
   "source": [
    "realy = pd.Series(realy)"
   ]
  },
  {
   "cell_type": "code",
   "execution_count": 39,
   "metadata": {},
   "outputs": [
    {
     "data": {
      "text/plain": [
       "<bound method NDFrame.head of 0       4\n",
       "1       4\n",
       "2       4\n",
       "3       4\n",
       "4       4\n",
       "       ..\n",
       "2963    4\n",
       "2964    4\n",
       "2965    4\n",
       "2966    4\n",
       "2967    5\n",
       "Length: 2968, dtype: int64>"
      ]
     },
     "execution_count": 39,
     "metadata": {},
     "output_type": "execute_result"
    }
   ],
   "source": [
    "realy.head"
   ]
  },
  {
   "cell_type": "code",
   "execution_count": 40,
   "metadata": {},
   "outputs": [],
   "source": [
    "realy.index = list(range(8001,10969))"
   ]
  },
  {
   "cell_type": "code",
   "execution_count": 41,
   "metadata": {},
   "outputs": [],
   "source": [
    "realy.to_csv('./submitrandom.csv')"
   ]
  },
  {
   "cell_type": "code",
   "execution_count": null,
   "metadata": {},
   "outputs": [],
   "source": []
  }
 ],
 "metadata": {
  "kernelspec": {
   "display_name": "Python 3",
   "language": "python",
   "name": "python3"
  },
  "language_info": {
   "codemirror_mode": {
    "name": "ipython",
    "version": 3
   },
   "file_extension": ".py",
   "mimetype": "text/x-python",
   "name": "python",
   "nbconvert_exporter": "python",
   "pygments_lexer": "ipython3",
   "version": "3.7.2"
  }
 },
 "nbformat": 4,
 "nbformat_minor": 2
}
