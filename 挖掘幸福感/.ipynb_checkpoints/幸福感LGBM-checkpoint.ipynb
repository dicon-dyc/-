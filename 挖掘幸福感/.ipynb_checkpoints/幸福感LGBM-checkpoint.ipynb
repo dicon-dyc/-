{
 "cells": [
  {
   "cell_type": "code",
   "execution_count": 3,
   "metadata": {},
   "outputs": [],
   "source": [
    "import numpy as np\n",
    "import pandas as pd\n",
    "import matplotlib.pyplot as plt\n",
    "import seaborn as sns\n",
    "import lightgbm as lgb"
   ]
  },
  {
   "cell_type": "code",
   "execution_count": 5,
   "metadata": {},
   "outputs": [],
   "source": [
    "train_data = pd.read_csv('./happiness_train_complete.csv',encoding='latin-1')\n",
    "test_data = pd.read_csv('./happiness_test_complete.csv',encoding='latin-1')"
   ]
  },
  {
   "cell_type": "code",
   "execution_count": 6,
   "metadata": {},
   "outputs": [
    {
     "data": {
      "text/plain": [
       "<bound method NDFrame.head of         id  happiness  survey_type  province  city  county      survey_time  \\\n",
       "0        1          4            1        12    32      59   2015/8/4 14:18   \n",
       "1        2          4            2        18    52      85  2015/7/21 15:04   \n",
       "2        3          4            2        29    83     126  2015/7/21 13:24   \n",
       "3        4          5            2        10    28      51  2015/7/25 17:33   \n",
       "4        5          4            1         7    18      36   2015/8/10 9:50   \n",
       "...    ...        ...          ...       ...   ...     ...              ...   \n",
       "7995  7996          2            2        29    82     124  2015/7/21 19:36   \n",
       "7996  7997          3            1        12    32      61  2015/7/31 16:00   \n",
       "7997  7998          4            1        16    46      78   2015/8/1 17:48   \n",
       "7998  7999          3            1         1     1       8  2015/9/22 18:52   \n",
       "7999  8000          4            1         1     1       3  2015/9/28 20:22   \n",
       "\n",
       "      gender  birth  nationality  ...  neighbor_familiarity  public_service_1  \\\n",
       "0          1   1959            1  ...                     4                50   \n",
       "1          1   1992            1  ...                     3                90   \n",
       "2          2   1967            1  ...                     4                90   \n",
       "3          2   1943            1  ...                     3               100   \n",
       "4          2   1994            1  ...                     2                50   \n",
       "...      ...    ...          ...  ...                   ...               ...   \n",
       "7995       1   1981            1  ...                     3                40   \n",
       "7996       2   1945            1  ...                     4                80   \n",
       "7997       2   1967            1  ...                     4                75   \n",
       "7998       2   1978            1  ...                     2                56   \n",
       "7999       2   1991            1  ...                     3                80   \n",
       "\n",
       "      public_service_2 public_service_3  public_service_4  public_service_5  \\\n",
       "0                   60               50                50              30.0   \n",
       "1                   70               70                80              85.0   \n",
       "2                   80               75                79              80.0   \n",
       "3                   90               70                80              80.0   \n",
       "4                   50               50                50              50.0   \n",
       "...                ...              ...               ...               ...   \n",
       "7995                50               50                50              40.0   \n",
       "7996                80               80                80              80.0   \n",
       "7997                70               70                80              80.0   \n",
       "7998                67               70                69              78.0   \n",
       "7999                80               80                80              80.0   \n",
       "\n",
       "      public_service_6  public_service_7  public_service_8  public_service_9  \n",
       "0                   30                50                50                50  \n",
       "1                   70                90                60                60  \n",
       "2                   90                90                90                75  \n",
       "3                   90                90                80                80  \n",
       "4                   50                50                50                50  \n",
       "...                ...               ...               ...               ...  \n",
       "7995                50                50                60                50  \n",
       "7996                60                60                80                80  \n",
       "7997                70                75                70                75  \n",
       "7998                60                70                80                70  \n",
       "7999                80                80                80                80  \n",
       "\n",
       "[8000 rows x 140 columns]>"
      ]
     },
     "execution_count": 6,
     "metadata": {},
     "output_type": "execute_result"
    }
   ],
   "source": [
    "train_data.head"
   ]
  },
  {
   "cell_type": "code",
   "execution_count": 7,
   "metadata": {},
   "outputs": [],
   "source": [
    "missing = train_data.isnull().sum()"
   ]
  },
  {
   "cell_type": "code",
   "execution_count": 8,
   "metadata": {},
   "outputs": [],
   "source": [
    "percent_tmp = ['id','happiness','survey_time']"
   ]
  },
  {
   "cell_type": "code",
   "execution_count": 9,
   "metadata": {},
   "outputs": [],
   "source": [
    "for name in missing.index:\n",
    "    if missing[name] >= 1000:\n",
    "        percent_tmp.append(name)"
   ]
  },
  {
   "cell_type": "code",
   "execution_count": 10,
   "metadata": {},
   "outputs": [
    {
     "data": {
      "text/plain": [
       "['survey_type',\n",
       " 'province',\n",
       " 'city',\n",
       " 'county',\n",
       " 'gender',\n",
       " 'birth',\n",
       " 'nationality',\n",
       " 'religion',\n",
       " 'religion_freq',\n",
       " 'edu',\n",
       " 'income',\n",
       " 'political',\n",
       " 'floor_area',\n",
       " 'property_0',\n",
       " 'property_1',\n",
       " 'property_2',\n",
       " 'property_3',\n",
       " 'property_4',\n",
       " 'property_5',\n",
       " 'property_6',\n",
       " 'property_7',\n",
       " 'property_8',\n",
       " 'height_cm',\n",
       " 'weight_jin',\n",
       " 'health',\n",
       " 'health_problem',\n",
       " 'depression',\n",
       " 'hukou',\n",
       " 'hukou_loc',\n",
       " 'media_1',\n",
       " 'media_2',\n",
       " 'media_3',\n",
       " 'media_4',\n",
       " 'media_5',\n",
       " 'media_6',\n",
       " 'leisure_1',\n",
       " 'leisure_2',\n",
       " 'leisure_3',\n",
       " 'leisure_4',\n",
       " 'leisure_5',\n",
       " 'leisure_6',\n",
       " 'leisure_7',\n",
       " 'leisure_8',\n",
       " 'leisure_9',\n",
       " 'leisure_10',\n",
       " 'leisure_11',\n",
       " 'leisure_12',\n",
       " 'socialize',\n",
       " 'relax',\n",
       " 'learn',\n",
       " 'social_neighbor',\n",
       " 'social_friend',\n",
       " 'socia_outing',\n",
       " 'equity',\n",
       " 'class',\n",
       " 'class_10_before',\n",
       " 'class_10_after',\n",
       " 'class_14',\n",
       " 'work_exper',\n",
       " 'insur_1',\n",
       " 'insur_2',\n",
       " 'insur_3',\n",
       " 'insur_4',\n",
       " 'family_income',\n",
       " 'family_m',\n",
       " 'family_status',\n",
       " 'house',\n",
       " 'car',\n",
       " 'invest_0',\n",
       " 'invest_1',\n",
       " 'invest_2',\n",
       " 'invest_3',\n",
       " 'invest_4',\n",
       " 'invest_5',\n",
       " 'invest_6',\n",
       " 'invest_7',\n",
       " 'invest_8',\n",
       " 'son',\n",
       " 'daughter',\n",
       " 'marital',\n",
       " 'marital_1st',\n",
       " 'f_birth',\n",
       " 'f_edu',\n",
       " 'f_political',\n",
       " 'f_work_14',\n",
       " 'm_birth',\n",
       " 'm_edu',\n",
       " 'm_political',\n",
       " 'm_work_14',\n",
       " 'status_peer',\n",
       " 'status_3_before',\n",
       " 'view',\n",
       " 'inc_ability',\n",
       " 'inc_exp',\n",
       " 'trust_1',\n",
       " 'trust_2',\n",
       " 'trust_3',\n",
       " 'trust_4',\n",
       " 'trust_5',\n",
       " 'trust_6',\n",
       " 'trust_7',\n",
       " 'trust_8',\n",
       " 'trust_9',\n",
       " 'trust_10',\n",
       " 'trust_11',\n",
       " 'trust_12',\n",
       " 'trust_13',\n",
       " 'neighbor_familiarity',\n",
       " 'public_service_1',\n",
       " 'public_service_2',\n",
       " 'public_service_3',\n",
       " 'public_service_4',\n",
       " 'public_service_5',\n",
       " 'public_service_6',\n",
       " 'public_service_7',\n",
       " 'public_service_8',\n",
       " 'public_service_9']"
      ]
     },
     "execution_count": 10,
     "metadata": {},
     "output_type": "execute_result"
    }
   ],
   "source": [
    "data_extract = [col for col in train_data.columns if col not in percent_tmp]\n",
    "data_extract"
   ]
  },
  {
   "cell_type": "code",
   "execution_count": 12,
   "metadata": {},
   "outputs": [],
   "source": [
    "X_data = train_data[data_extract]\n",
    "Y_data = train_data['happiness']\n",
    "X_test = test_data[data_extract]"
   ]
  },
  {
   "cell_type": "code",
   "execution_count": 13,
   "metadata": {},
   "outputs": [],
   "source": [
    "X_data = X_data.fillna(0)\n",
    "X_test = X_test.fillna(0)"
   ]
  },
  {
   "cell_type": "code",
   "execution_count": 15,
   "metadata": {},
   "outputs": [
    {
     "data": {
      "text/plain": [
       "LGBMClassifier(learning_rate=0.05, n_estimators=20, objective='regression')"
      ]
     },
     "execution_count": 15,
     "metadata": {},
     "output_type": "execute_result"
    }
   ],
   "source": [
    "gbm = lgb.LGBMClassifier(objective = 'regression',num_leaves=31,learning_rate = 0.05,n_estimators=20)\n",
    "gbm.fit(X_data,Y_data)"
   ]
  },
  {
   "cell_type": "code",
   "execution_count": 16,
   "metadata": {},
   "outputs": [
    {
     "data": {
      "text/plain": [
       "array([4, 4, 4, ..., 4, 4, 5], dtype=int64)"
      ]
     },
     "execution_count": 16,
     "metadata": {},
     "output_type": "execute_result"
    }
   ],
   "source": [
    "realy = gbm.predict(X_test)\n",
    "realy"
   ]
  },
  {
   "cell_type": "code",
   "execution_count": 17,
   "metadata": {},
   "outputs": [
    {
     "data": {
      "text/plain": [
       "0       4\n",
       "1       4\n",
       "2       4\n",
       "3       4\n",
       "4       4\n",
       "       ..\n",
       "2963    5\n",
       "2964    4\n",
       "2965    4\n",
       "2966    4\n",
       "2967    5\n",
       "Length: 2968, dtype: int64"
      ]
     },
     "execution_count": 17,
     "metadata": {},
     "output_type": "execute_result"
    }
   ],
   "source": [
    "realy = pd.Series(realy)\n",
    "realy"
   ]
  },
  {
   "cell_type": "code",
   "execution_count": 18,
   "metadata": {},
   "outputs": [],
   "source": [
    "realy.index = list(range(8001,10969))"
   ]
  },
  {
   "cell_type": "code",
   "execution_count": 19,
   "metadata": {},
   "outputs": [],
   "source": [
    "realy.to_csv('./submitlgbm.csv')"
   ]
  },
  {
   "cell_type": "code",
   "execution_count": null,
   "metadata": {},
   "outputs": [],
   "source": []
  }
 ],
 "metadata": {
  "kernelspec": {
   "display_name": "Python 3",
   "language": "python",
   "name": "python3"
  },
  "language_info": {
   "codemirror_mode": {
    "name": "ipython",
    "version": 3
   },
   "file_extension": ".py",
   "mimetype": "text/x-python",
   "name": "python",
   "nbconvert_exporter": "python",
   "pygments_lexer": "ipython3",
   "version": "3.7.2"
  }
 },
 "nbformat": 4,
 "nbformat_minor": 2
}
