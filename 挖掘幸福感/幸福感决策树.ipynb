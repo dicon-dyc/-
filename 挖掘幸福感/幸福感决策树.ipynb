{
 "cells": [
  {
   "cell_type": "code",
   "execution_count": 1,
   "metadata": {},
   "outputs": [],
   "source": [
    "import numpy as np\n",
    "import pandas as pd\n",
    "import matplotlib.pyplot as plt\n",
    "import seaborn as sns\n",
    "from sklearn.tree import DecisionTreeClassifier"
   ]
  },
  {
   "cell_type": "code",
   "execution_count": 2,
   "metadata": {},
   "outputs": [],
   "source": [
    "train_data = pd.read_csv('./happiness_train_complete.csv',encoding='latin-1')\n",
    "test_data = pd.read_csv('./happiness_test_complete.csv',encoding='latin-1')"
   ]
  },
  {
   "cell_type": "code",
   "execution_count": 3,
   "metadata": {},
   "outputs": [
    {
     "data": {
      "text/plain": [
       "<bound method NDFrame.head of         id  happiness  survey_type  province  city  county      survey_time  \\\n",
       "0        1          4            1        12    32      59   2015/8/4 14:18   \n",
       "1        2          4            2        18    52      85  2015/7/21 15:04   \n",
       "2        3          4            2        29    83     126  2015/7/21 13:24   \n",
       "3        4          5            2        10    28      51  2015/7/25 17:33   \n",
       "4        5          4            1         7    18      36   2015/8/10 9:50   \n",
       "...    ...        ...          ...       ...   ...     ...              ...   \n",
       "7995  7996          2            2        29    82     124  2015/7/21 19:36   \n",
       "7996  7997          3            1        12    32      61  2015/7/31 16:00   \n",
       "7997  7998          4            1        16    46      78   2015/8/1 17:48   \n",
       "7998  7999          3            1         1     1       8  2015/9/22 18:52   \n",
       "7999  8000          4            1         1     1       3  2015/9/28 20:22   \n",
       "\n",
       "      gender  birth  nationality  ...  neighbor_familiarity  public_service_1  \\\n",
       "0          1   1959            1  ...                     4                50   \n",
       "1          1   1992            1  ...                     3                90   \n",
       "2          2   1967            1  ...                     4                90   \n",
       "3          2   1943            1  ...                     3               100   \n",
       "4          2   1994            1  ...                     2                50   \n",
       "...      ...    ...          ...  ...                   ...               ...   \n",
       "7995       1   1981            1  ...                     3                40   \n",
       "7996       2   1945            1  ...                     4                80   \n",
       "7997       2   1967            1  ...                     4                75   \n",
       "7998       2   1978            1  ...                     2                56   \n",
       "7999       2   1991            1  ...                     3                80   \n",
       "\n",
       "      public_service_2 public_service_3  public_service_4  public_service_5  \\\n",
       "0                   60               50                50              30.0   \n",
       "1                   70               70                80              85.0   \n",
       "2                   80               75                79              80.0   \n",
       "3                   90               70                80              80.0   \n",
       "4                   50               50                50              50.0   \n",
       "...                ...              ...               ...               ...   \n",
       "7995                50               50                50              40.0   \n",
       "7996                80               80                80              80.0   \n",
       "7997                70               70                80              80.0   \n",
       "7998                67               70                69              78.0   \n",
       "7999                80               80                80              80.0   \n",
       "\n",
       "      public_service_6  public_service_7  public_service_8  public_service_9  \n",
       "0                   30                50                50                50  \n",
       "1                   70                90                60                60  \n",
       "2                   90                90                90                75  \n",
       "3                   90                90                80                80  \n",
       "4                   50                50                50                50  \n",
       "...                ...               ...               ...               ...  \n",
       "7995                50                50                60                50  \n",
       "7996                60                60                80                80  \n",
       "7997                70                75                70                75  \n",
       "7998                60                70                80                70  \n",
       "7999                80                80                80                80  \n",
       "\n",
       "[8000 rows x 140 columns]>"
      ]
     },
     "execution_count": 3,
     "metadata": {},
     "output_type": "execute_result"
    }
   ],
   "source": [
    "train_data.head"
   ]
  },
  {
   "cell_type": "code",
   "execution_count": 4,
   "metadata": {},
   "outputs": [],
   "source": [
    "missing_sum = train_data.isnull().sum()"
   ]
  },
  {
   "cell_type": "code",
   "execution_count": 5,
   "metadata": {},
   "outputs": [
    {
     "data": {
      "text/plain": [
       "Index(['id', 'happiness', 'survey_type', 'province', 'city', 'county',\n",
       "       'survey_time', 'gender', 'birth', 'nationality',\n",
       "       ...\n",
       "       'neighbor_familiarity', 'public_service_1', 'public_service_2',\n",
       "       'public_service_3', 'public_service_4', 'public_service_5',\n",
       "       'public_service_6', 'public_service_7', 'public_service_8',\n",
       "       'public_service_9'],\n",
       "      dtype='object', length=140)"
      ]
     },
     "execution_count": 5,
     "metadata": {},
     "output_type": "execute_result"
    }
   ],
   "source": [
    "missing_sum.index"
   ]
  },
  {
   "cell_type": "code",
   "execution_count": 6,
   "metadata": {},
   "outputs": [],
   "source": [
    "name_temp = ['id','happiness','survey_time']"
   ]
  },
  {
   "cell_type": "code",
   "execution_count": 7,
   "metadata": {},
   "outputs": [],
   "source": [
    "for name in missing_sum.index:\n",
    "    if missing_sum[name] > 1000:\n",
    "        name_temp.append(name)"
   ]
  },
  {
   "cell_type": "code",
   "execution_count": 8,
   "metadata": {},
   "outputs": [],
   "source": [
    "name_extract = [col for col in train_data.columns if col not in name_temp]"
   ]
  },
  {
   "cell_type": "code",
   "execution_count": 9,
   "metadata": {},
   "outputs": [],
   "source": [
    "X_data = train_data[name_extract]\n",
    "Y_data = train_data['happiness']\n",
    "X_test = test_data[name_extract]"
   ]
  },
  {
   "cell_type": "code",
   "execution_count": 10,
   "metadata": {},
   "outputs": [],
   "source": [
    "X_data = X_data.fillna(0)\n",
    "X_test = X_test.fillna(0)"
   ]
  },
  {
   "cell_type": "code",
   "execution_count": 11,
   "metadata": {},
   "outputs": [
    {
     "data": {
      "text/plain": [
       "DecisionTreeClassifier(max_depth=4)"
      ]
     },
     "execution_count": 11,
     "metadata": {},
     "output_type": "execute_result"
    }
   ],
   "source": [
    "clf = DecisionTreeClassifier(max_depth=4)\n",
    "clf.fit(X_data,Y_data)"
   ]
  },
  {
   "cell_type": "code",
   "execution_count": 12,
   "metadata": {},
   "outputs": [],
   "source": [
    "realy = clf.predict(X_test)"
   ]
  },
  {
   "cell_type": "code",
   "execution_count": 13,
   "metadata": {},
   "outputs": [
    {
     "data": {
      "text/plain": [
       "array([4, 2, 4, ..., 4, 4, 5], dtype=int64)"
      ]
     },
     "execution_count": 13,
     "metadata": {},
     "output_type": "execute_result"
    }
   ],
   "source": [
    "realy"
   ]
  },
  {
   "cell_type": "code",
   "execution_count": 14,
   "metadata": {},
   "outputs": [],
   "source": [
    "realy = pd.Series(realy)"
   ]
  },
  {
   "cell_type": "code",
   "execution_count": 15,
   "metadata": {},
   "outputs": [],
   "source": [
    "realy.index = list(range(8001,10969))"
   ]
  },
  {
   "cell_type": "code",
   "execution_count": 16,
   "metadata": {},
   "outputs": [],
   "source": [
    "realy.to_csv('./submitdecison.csv')"
   ]
  },
  {
   "cell_type": "code",
   "execution_count": null,
   "metadata": {},
   "outputs": [],
   "source": []
  }
 ],
 "metadata": {
  "kernelspec": {
   "display_name": "Python 3",
   "language": "python",
   "name": "python3"
  },
  "language_info": {
   "codemirror_mode": {
    "name": "ipython",
    "version": 3
   },
   "file_extension": ".py",
   "mimetype": "text/x-python",
   "name": "python",
   "nbconvert_exporter": "python",
   "pygments_lexer": "ipython3",
   "version": "3.7.2"
  }
 },
 "nbformat": 4,
 "nbformat_minor": 2
}
